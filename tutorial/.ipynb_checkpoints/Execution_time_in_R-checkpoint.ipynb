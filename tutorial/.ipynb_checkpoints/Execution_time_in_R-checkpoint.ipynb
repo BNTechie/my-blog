{
 "cells": [
  {
   "cell_type": "raw",
   "id": "25b0d821-0453-4593-8443-d9a2cfb0c044",
   "metadata": {},
   "source": [
    "{\n",
    "  \"title\": \"How to Measure Execution Time in R: Benchmarking Blocks and Pipelines\",\n",
    "  \"date\": \"2025-07-19\",\n",
    "  \"description\": \"A practical tutorial in R on computing execution time for code blocks and entire scripts using Sys.time().\",\n",
    "  \"categories\": [\"R\", \"Performance\", \"Timing\"]\n",
    "}\n"
   ]
  },
  {
   "cell_type": "code",
   "execution_count": 1,
   "id": "ec9fab8a-1518-4300-8098-34ba3f0bf7a8",
   "metadata": {},
   "outputs": [
    {
     "name": "stdout",
     "output_type": "stream",
     "text": [
      "===== R Script Execution Started =====\n",
      "Start time: 2025-07-19 10:59:26 \n",
      "\n",
      "Step 1: Loading data...\n",
      ">>> 'Load Data' took 0.046 seconds\n",
      "\n",
      "Step 2: Preprocessing data...\n",
      ">>> 'Preprocess Data' took 0.094 seconds\n",
      "\n",
      "Step 3: Training model...\n",
      ">>> 'Train Model' took 0.965 seconds\n",
      "\n",
      "Step 4: Making predictions...\n",
      ">>> 'Predict' took 0.148 seconds\n",
      "\n",
      "Step 5: Saving output to file...\n",
      ">>> 'Save Output' took 2.825 seconds\n"
     ]
    },
    {
     "data": {
      "text/plain": [
       "NULL"
      ]
     },
     "metadata": {},
     "output_type": "display_data"
    },
    {
     "name": "stdout",
     "output_type": "stream",
     "text": [
      "\n",
      "===== R Script Execution Completed =====\n",
      "End time: 2025-07-19 10:59:30 \n"
     ]
    }
   ],
   "source": [
    "# timed_pipeline.R\n",
    "\n",
    "cat(\"===== R Script Execution Started =====\\n\")\n",
    "cat(\"Start time:\", format(Sys.time()), \"\\n\\n\")\n",
    "\n",
    "# ----------- Helper Function to Time Each Block -----------\n",
    "time_it <- function(expr, label = \"\") {\n",
    "  time <- system.time(result <- eval(expr))\n",
    "  cat(sprintf(\">>> '%s' took %.3f seconds\\n\", label, time[\"elapsed\"]))\n",
    "  return(result)\n",
    "}\n",
    "\n",
    "# ----------- 1. Load or Generate Data -----------\n",
    "load_data <- function(n = 1000000) {\n",
    "  set.seed(42)\n",
    "  data.frame(\n",
    "    id = 1:n,\n",
    "    feature1 = rnorm(n),\n",
    "    feature2 = runif(n),\n",
    "    target = sample(0:1, n, replace = TRUE)\n",
    "  )\n",
    "}\n",
    "\n",
    "cat(\"Step 1: Loading data...\\n\")\n",
    "df <- time_it(quote(load_data()), \"Load Data\")\n",
    "\n",
    "# ----------- 2. Preprocess Data -----------\n",
    "preprocess_data <- function(data) {\n",
    "  data$feature1_scaled <- scale(data$feature1)\n",
    "  data$feature2_scaled <- scale(data$feature2)\n",
    "  data\n",
    "}\n",
    "\n",
    "cat(\"\\nStep 2: Preprocessing data...\\n\")\n",
    "df_processed <- time_it(quote(preprocess_data(df)), \"Preprocess Data\")\n",
    "\n",
    "# ----------- 3. Train a Simple Model -----------\n",
    "train_model <- function(data) {\n",
    "  model <- glm(target ~ feature1_scaled + feature2_scaled, data = data, family = \"binomial\")\n",
    "  return(model)\n",
    "}\n",
    "\n",
    "cat(\"\\nStep 3: Training model...\\n\")\n",
    "model <- time_it(quote(train_model(df_processed)), \"Train Model\")\n",
    "\n",
    "# ----------- 4. Make Predictions -----------\n",
    "predict_model <- function(model, data) {\n",
    "  probs <- predict(model, newdata = data, type = \"response\")\n",
    "  data$predicted_class <- ifelse(probs > 0.5, 1, 0)\n",
    "  return(data)\n",
    "}\n",
    "\n",
    "cat(\"\\nStep 4: Making predictions...\\n\")\n",
    "df_predicted <- time_it(quote(predict_model(model, df_processed)), \"Predict\")\n",
    "\n",
    "# ----------- 5. Save Results -----------\n",
    "save_results <- function(data, path = \"output.csv\") {\n",
    "  write.csv(data, path, row.names = FALSE)\n",
    "}\n",
    "\n",
    "cat(\"\\nStep 5: Saving output to file...\\n\")\n",
    "time_it(quote(save_results(df_predicted)), \"Save Output\")\n",
    "\n",
    "cat(\"\\n===== R Script Execution Completed =====\\n\")\n",
    "cat(\"End time:\", format(Sys.time()), \"\\n\")\n"
   ]
  },
  {
   "cell_type": "code",
   "execution_count": null,
   "id": "56f8f6d7-1c90-4ac4-95b4-1945036df519",
   "metadata": {},
   "outputs": [],
   "source": []
  }
 ],
 "metadata": {
  "kernelspec": {
   "display_name": "R",
   "language": "R",
   "name": "ir"
  },
  "language_info": {
   "codemirror_mode": "r",
   "file_extension": ".r",
   "mimetype": "text/x-r-source",
   "name": "R",
   "pygments_lexer": "r",
   "version": "4.3.2"
  }
 },
 "nbformat": 4,
 "nbformat_minor": 5
}
