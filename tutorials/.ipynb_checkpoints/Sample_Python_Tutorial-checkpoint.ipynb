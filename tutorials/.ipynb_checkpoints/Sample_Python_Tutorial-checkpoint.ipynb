{
 "cells": [
  {
   "cell_type": "markdown",
   "id": "86c6230e",
   "metadata": {},
   "source": [
    "# Sample Python Tutorial\n",
    "This is a simple tutorial using Python."
   ]
  },
  {
   "cell_type": "code",
   "execution_count": null,
   "id": "cdc77d26",
   "metadata": {},
   "outputs": [],
   "source": [
    "x = [i**2 for i in range(10)]\n",
    "x"
   ]
  },
  {
   "cell_type": "markdown",
   "id": "ecd28eec",
   "metadata": {},
   "source": [
    "You can visualize it with matplotlib:"
   ]
  },
  {
   "cell_type": "code",
   "execution_count": null,
   "id": "6efadf42",
   "metadata": {},
   "outputs": [],
   "source": [
    "import matplotlib.pyplot as plt\n",
    "plt.plot(x)\n",
    "plt.title('Squares')\n",
    "plt.show()"
   ]
  }
 ],
 "metadata": {
  "kernelspec": {
   "display_name": "Python 3",
   "language": "python",
   "name": "python3"
  }
 },
 "nbformat": 4,
 "nbformat_minor": 5
}
